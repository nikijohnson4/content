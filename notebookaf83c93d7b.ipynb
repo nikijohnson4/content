{
 "cells": [
  {
   "cell_type": "code",
   "execution_count": 1,
   "id": "75be077b",
   "metadata": {
    "_cell_guid": "b1076dfc-b9ad-4769-8c92-a6c4dae69d19",
    "_uuid": "8f2839f25d086af736a60e9eeb907d3b93b6e0e5",
    "execution": {
     "iopub.execute_input": "2024-01-26T14:20:22.346414Z",
     "iopub.status.busy": "2024-01-26T14:20:22.345716Z",
     "iopub.status.idle": "2024-01-26T14:20:23.215078Z",
     "shell.execute_reply": "2024-01-26T14:20:23.213907Z"
    },
    "papermill": {
     "duration": 0.88051,
     "end_time": "2024-01-26T14:20:23.218665",
     "exception": false,
     "start_time": "2024-01-26T14:20:22.338155",
     "status": "completed"
    },
    "tags": []
   },
   "outputs": [
    {
     "name": "stdout",
     "output_type": "stream",
     "text": [
      "/kaggle/input/llama-2/pytorch/13b/1/consolidated.00.pth\n",
      "/kaggle/input/llama-2/pytorch/13b/1/tokenizer_checklist.chk\n",
      "/kaggle/input/llama-2/pytorch/13b/1/Responsible-Use-Guide.pdf\n",
      "/kaggle/input/llama-2/pytorch/13b/1/params.json\n",
      "/kaggle/input/llama-2/pytorch/13b/1/README.md\n",
      "/kaggle/input/llama-2/pytorch/13b/1/USE_POLICY.md\n",
      "/kaggle/input/llama-2/pytorch/13b/1/checklist.chk\n",
      "/kaggle/input/llama-2/pytorch/13b/1/LICENSE.txt\n",
      "/kaggle/input/llama-2/pytorch/13b/1/.gitattributes\n",
      "/kaggle/input/llama-2/pytorch/13b/1/tokenizer.model\n",
      "/kaggle/input/llama-2/pytorch/13b/1/consolidated.01.pth\n",
      "/kaggle/input/codellama/pytorch/13b/1/CONTRIBUTING.md\n",
      "/kaggle/input/codellama/pytorch/13b/1/CODE_OF_CONDUCT.md\n",
      "/kaggle/input/codellama/pytorch/13b/1/consolidated.00.pth\n",
      "/kaggle/input/codellama/pytorch/13b/1/example_infilling.py\n",
      "/kaggle/input/codellama/pytorch/13b/1/LICENSE\n",
      "/kaggle/input/codellama/pytorch/13b/1/MODEL_CARD.md\n",
      "/kaggle/input/codellama/pytorch/13b/1/params.json\n",
      "/kaggle/input/codellama/pytorch/13b/1/README.md\n",
      "/kaggle/input/codellama/pytorch/13b/1/USE_POLICY.md\n",
      "/kaggle/input/codellama/pytorch/13b/1/example_instructions.py\n",
      "/kaggle/input/codellama/pytorch/13b/1/checklist.chk\n",
      "/kaggle/input/codellama/pytorch/13b/1/requirements.txt\n",
      "/kaggle/input/codellama/pytorch/13b/1/dev-requirements.txt\n",
      "/kaggle/input/codellama/pytorch/13b/1/tokenizer.model\n",
      "/kaggle/input/codellama/pytorch/13b/1/setup.py\n",
      "/kaggle/input/codellama/pytorch/13b/1/example_completion.py\n",
      "/kaggle/input/codellama/pytorch/13b/1/consolidated.01.pth\n",
      "/kaggle/input/codellama/pytorch/13b/1/llama/model.py\n",
      "/kaggle/input/codellama/pytorch/13b/1/llama/tokenizer.py\n",
      "/kaggle/input/codellama/pytorch/13b/1/llama/generation.py\n",
      "/kaggle/input/codellama/pytorch/13b/1/llama/__init__.py\n"
     ]
    }
   ],
   "source": [
    "# This Python 3 environment comes with many helpful analytics libraries installed\n",
    "# It is defined by the kaggle/python Docker image: https://github.com/kaggle/docker-python\n",
    "# For example, here's several helpful packages to load\n",
    "\n",
    "import numpy as np # linear algebra\n",
    "import pandas as pd # data processing, CSV file I/O (e.g. pd.read_csv)\n",
    "\n",
    "# Input data files are available in the read-only \"../input/\" directory\n",
    "# For example, running this (by clicking run or pressing Shift+Enter) will list all files under the input directory\n",
    "\n",
    "import os\n",
    "for dirname, _, filenames in os.walk('/kaggle/input'):\n",
    "    for filename in filenames:\n",
    "        print(os.path.join(dirname, filename))\n",
    "\n",
    "# You can write up to 20GB to the current directory (/kaggle/working/) that gets preserved as output when you create a version using \"Save & Run All\" \n",
    "# You can also write temporary files to /kaggle/temp/, but they won't be saved outside of the current session"
   ]
  },
  {
   "cell_type": "code",
   "execution_count": null,
   "id": "5a1fc939",
   "metadata": {
    "papermill": {
     "duration": 0.004592,
     "end_time": "2024-01-26T14:20:23.228996",
     "exception": false,
     "start_time": "2024-01-26T14:20:23.224404",
     "status": "completed"
    },
    "tags": []
   },
   "outputs": [],
   "source": []
  },
  {
   "cell_type": "code",
   "execution_count": null,
   "id": "6ec1d34a",
   "metadata": {
    "jupyter": {
     "source_hidden": true
    },
    "papermill": {
     "duration": 0.004394,
     "end_time": "2024-01-26T14:20:23.237977",
     "exception": false,
     "start_time": "2024-01-26T14:20:23.233583",
     "status": "completed"
    },
    "tags": []
   },
   "outputs": [],
   "source": []
  },
  {
   "cell_type": "code",
   "execution_count": null,
   "id": "e65f868d",
   "metadata": {
    "papermill": {
     "duration": 0.004856,
     "end_time": "2024-01-26T14:20:23.247257",
     "exception": false,
     "start_time": "2024-01-26T14:20:23.242401",
     "status": "completed"
    },
    "tags": []
   },
   "outputs": [],
   "source": []
  },
  {
   "cell_type": "code",
   "execution_count": null,
   "id": "7894c74b",
   "metadata": {
    "jupyter": {
     "source_hidden": true
    },
    "papermill": {
     "duration": 0.004138,
     "end_time": "2024-01-26T14:20:23.256159",
     "exception": false,
     "start_time": "2024-01-26T14:20:23.252021",
     "status": "completed"
    },
    "tags": []
   },
   "outputs": [],
   "source": []
  },
  {
   "cell_type": "code",
   "execution_count": null,
   "id": "935ee085",
   "metadata": {
    "papermill": {
     "duration": 0.004015,
     "end_time": "2024-01-26T14:20:23.264562",
     "exception": false,
     "start_time": "2024-01-26T14:20:23.260547",
     "status": "completed"
    },
    "tags": []
   },
   "outputs": [],
   "source": []
  },
  {
   "cell_type": "code",
   "execution_count": null,
   "id": "bb837940",
   "metadata": {
    "jupyter": {
     "source_hidden": true
    },
    "papermill": {
     "duration": 0.003966,
     "end_time": "2024-01-26T14:20:23.273054",
     "exception": false,
     "start_time": "2024-01-26T14:20:23.269088",
     "status": "completed"
    },
    "tags": []
   },
   "outputs": [],
   "source": []
  },
  {
   "cell_type": "code",
   "execution_count": null,
   "id": "31e47a66",
   "metadata": {
    "jupyter": {
     "source_hidden": true
    },
    "papermill": {
     "duration": 0.005569,
     "end_time": "2024-01-26T14:20:23.285218",
     "exception": false,
     "start_time": "2024-01-26T14:20:23.279649",
     "status": "completed"
    },
    "tags": []
   },
   "outputs": [],
   "source": []
  },
  {
   "cell_type": "code",
   "execution_count": null,
   "id": "e3a20326",
   "metadata": {
    "papermill": {
     "duration": 0.005482,
     "end_time": "2024-01-26T14:20:23.295842",
     "exception": false,
     "start_time": "2024-01-26T14:20:23.290360",
     "status": "completed"
    },
    "tags": []
   },
   "outputs": [],
   "source": []
  },
  {
   "cell_type": "code",
   "execution_count": null,
   "id": "f965410d",
   "metadata": {
    "papermill": {
     "duration": 0.004229,
     "end_time": "2024-01-26T14:20:23.305217",
     "exception": false,
     "start_time": "2024-01-26T14:20:23.300988",
     "status": "completed"
    },
    "tags": []
   },
   "outputs": [],
   "source": []
  },
  {
   "cell_type": "code",
   "execution_count": null,
   "id": "77cfab9d",
   "metadata": {
    "papermill": {
     "duration": 0.00419,
     "end_time": "2024-01-26T14:20:23.313854",
     "exception": false,
     "start_time": "2024-01-26T14:20:23.309664",
     "status": "completed"
    },
    "tags": []
   },
   "outputs": [],
   "source": []
  },
  {
   "cell_type": "code",
   "execution_count": null,
   "id": "e6eec675",
   "metadata": {
    "papermill": {
     "duration": 0.004291,
     "end_time": "2024-01-26T14:20:23.322657",
     "exception": false,
     "start_time": "2024-01-26T14:20:23.318366",
     "status": "completed"
    },
    "tags": []
   },
   "outputs": [],
   "source": []
  },
  {
   "cell_type": "code",
   "execution_count": null,
   "id": "f3ee238d",
   "metadata": {
    "papermill": {
     "duration": 0.004354,
     "end_time": "2024-01-26T14:20:23.331478",
     "exception": false,
     "start_time": "2024-01-26T14:20:23.327124",
     "status": "completed"
    },
    "tags": []
   },
   "outputs": [],
   "source": []
  },
  {
   "cell_type": "code",
   "execution_count": null,
   "id": "85736425",
   "metadata": {
    "papermill": {
     "duration": 0.004926,
     "end_time": "2024-01-26T14:20:23.340750",
     "exception": false,
     "start_time": "2024-01-26T14:20:23.335824",
     "status": "completed"
    },
    "tags": []
   },
   "outputs": [],
   "source": []
  },
  {
   "cell_type": "code",
   "execution_count": null,
   "id": "fc5ab119",
   "metadata": {
    "papermill": {
     "duration": 0.004121,
     "end_time": "2024-01-26T14:20:23.349457",
     "exception": false,
     "start_time": "2024-01-26T14:20:23.345336",
     "status": "completed"
    },
    "tags": []
   },
   "outputs": [],
   "source": []
  },
  {
   "cell_type": "code",
   "execution_count": null,
   "id": "b237f639",
   "metadata": {
    "papermill": {
     "duration": 0.004269,
     "end_time": "2024-01-26T14:20:23.359145",
     "exception": false,
     "start_time": "2024-01-26T14:20:23.354876",
     "status": "completed"
    },
    "tags": []
   },
   "outputs": [],
   "source": []
  },
  {
   "cell_type": "code",
   "execution_count": null,
   "id": "53c775ce",
   "metadata": {
    "papermill": {
     "duration": 0.003995,
     "end_time": "2024-01-26T14:20:23.367555",
     "exception": false,
     "start_time": "2024-01-26T14:20:23.363560",
     "status": "completed"
    },
    "tags": []
   },
   "outputs": [],
   "source": []
  },
  {
   "cell_type": "code",
   "execution_count": null,
   "id": "c284e858",
   "metadata": {
    "papermill": {
     "duration": 0.004517,
     "end_time": "2024-01-26T14:20:23.377381",
     "exception": false,
     "start_time": "2024-01-26T14:20:23.372864",
     "status": "completed"
    },
    "tags": []
   },
   "outputs": [],
   "source": []
  },
  {
   "cell_type": "code",
   "execution_count": null,
   "id": "1de8b1b7",
   "metadata": {
    "papermill": {
     "duration": 0.004063,
     "end_time": "2024-01-26T14:20:23.385932",
     "exception": false,
     "start_time": "2024-01-26T14:20:23.381869",
     "status": "completed"
    },
    "tags": []
   },
   "outputs": [],
   "source": []
  },
  {
   "cell_type": "code",
   "execution_count": null,
   "id": "b2b5fa27",
   "metadata": {
    "papermill": {
     "duration": 0.004311,
     "end_time": "2024-01-26T14:20:23.394598",
     "exception": false,
     "start_time": "2024-01-26T14:20:23.390287",
     "status": "completed"
    },
    "tags": []
   },
   "outputs": [],
   "source": []
  },
  {
   "cell_type": "code",
   "execution_count": null,
   "id": "df25f157",
   "metadata": {
    "papermill": {
     "duration": 0.004059,
     "end_time": "2024-01-26T14:20:23.403204",
     "exception": false,
     "start_time": "2024-01-26T14:20:23.399145",
     "status": "completed"
    },
    "tags": []
   },
   "outputs": [],
   "source": []
  },
  {
   "cell_type": "code",
   "execution_count": null,
   "id": "3bc8d671",
   "metadata": {
    "papermill": {
     "duration": 0.004252,
     "end_time": "2024-01-26T14:20:23.411789",
     "exception": false,
     "start_time": "2024-01-26T14:20:23.407537",
     "status": "completed"
    },
    "tags": []
   },
   "outputs": [],
   "source": []
  },
  {
   "cell_type": "code",
   "execution_count": null,
   "id": "b5ed5aa1",
   "metadata": {
    "papermill": {
     "duration": 0.00406,
     "end_time": "2024-01-26T14:20:23.420033",
     "exception": false,
     "start_time": "2024-01-26T14:20:23.415973",
     "status": "completed"
    },
    "tags": []
   },
   "outputs": [],
   "source": []
  },
  {
   "cell_type": "code",
   "execution_count": null,
   "id": "004b6b92",
   "metadata": {
    "papermill": {
     "duration": 0.004095,
     "end_time": "2024-01-26T14:20:23.428305",
     "exception": false,
     "start_time": "2024-01-26T14:20:23.424210",
     "status": "completed"
    },
    "tags": []
   },
   "outputs": [],
   "source": []
  }
 ],
 "metadata": {
  "kaggle": {
   "accelerator": "none",
   "dataSources": [
    {
     "isSourceIdPinned": true,
     "modelInstanceId": 3405,
     "sourceId": 4615,
     "sourceType": "modelInstanceVersion"
    },
    {
     "isSourceIdPinned": true,
     "modelInstanceId": 3094,
     "sourceId": 4299,
     "sourceType": "modelInstanceVersion"
    }
   ],
   "dockerImageVersionId": 30558,
   "isGpuEnabled": false,
   "isInternetEnabled": true,
   "language": "python",
   "sourceType": "notebook"
  },
  "kernelspec": {
   "display_name": "Python 3",
   "language": "python",
   "name": "python3"
  },
  "language_info": {
   "codemirror_mode": {
    "name": "ipython",
    "version": 3
   },
   "file_extension": ".py",
   "mimetype": "text/x-python",
   "name": "python",
   "nbconvert_exporter": "python",
   "pygments_lexer": "ipython3",
   "version": "3.10.12"
  },
  "papermill": {
   "default_parameters": {},
   "duration": 4.505589,
   "end_time": "2024-01-26T14:20:23.852921",
   "environment_variables": {},
   "exception": null,
   "input_path": "__notebook__.ipynb",
   "output_path": "__notebook__.ipynb",
   "parameters": {},
   "start_time": "2024-01-26T14:20:19.347332",
   "version": "2.4.0"
  }
 },
 "nbformat": 4,
 "nbformat_minor": 5
}
