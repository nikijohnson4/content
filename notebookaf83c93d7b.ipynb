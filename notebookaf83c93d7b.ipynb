{
 "cells": [
  {
   "cell_type": "code",
   "execution_count": 1,
   "id": "fa30f3b4",
   "metadata": {
    "_cell_guid": "b1076dfc-b9ad-4769-8c92-a6c4dae69d19",
    "_uuid": "8f2839f25d086af736a60e9eeb907d3b93b6e0e5",
    "execution": {
     "iopub.execute_input": "2024-01-26T14:25:59.183827Z",
     "iopub.status.busy": "2024-01-26T14:25:59.183085Z",
     "iopub.status.idle": "2024-01-26T14:26:00.063908Z",
     "shell.execute_reply": "2024-01-26T14:26:00.062329Z"
    },
    "papermill": {
     "duration": 0.893735,
     "end_time": "2024-01-26T14:26:00.067362",
     "exception": false,
     "start_time": "2024-01-26T14:25:59.173627",
     "status": "completed"
    },
    "tags": []
   },
   "outputs": [
    {
     "name": "stdout",
     "output_type": "stream",
     "text": [
      "/kaggle/input/codellama/pytorch/13b/1/CONTRIBUTING.md\n",
      "/kaggle/input/codellama/pytorch/13b/1/CODE_OF_CONDUCT.md\n",
      "/kaggle/input/codellama/pytorch/13b/1/consolidated.00.pth\n",
      "/kaggle/input/codellama/pytorch/13b/1/example_infilling.py\n",
      "/kaggle/input/codellama/pytorch/13b/1/LICENSE\n",
      "/kaggle/input/codellama/pytorch/13b/1/MODEL_CARD.md\n",
      "/kaggle/input/codellama/pytorch/13b/1/params.json\n",
      "/kaggle/input/codellama/pytorch/13b/1/README.md\n",
      "/kaggle/input/codellama/pytorch/13b/1/USE_POLICY.md\n",
      "/kaggle/input/codellama/pytorch/13b/1/example_instructions.py\n",
      "/kaggle/input/codellama/pytorch/13b/1/checklist.chk\n",
      "/kaggle/input/codellama/pytorch/13b/1/requirements.txt\n",
      "/kaggle/input/codellama/pytorch/13b/1/dev-requirements.txt\n",
      "/kaggle/input/codellama/pytorch/13b/1/tokenizer.model\n",
      "/kaggle/input/codellama/pytorch/13b/1/setup.py\n",
      "/kaggle/input/codellama/pytorch/13b/1/example_completion.py\n",
      "/kaggle/input/codellama/pytorch/13b/1/consolidated.01.pth\n",
      "/kaggle/input/codellama/pytorch/13b/1/llama/model.py\n",
      "/kaggle/input/codellama/pytorch/13b/1/llama/tokenizer.py\n",
      "/kaggle/input/codellama/pytorch/13b/1/llama/generation.py\n",
      "/kaggle/input/codellama/pytorch/13b/1/llama/__init__.py\n",
      "/kaggle/input/llama-2/pytorch/13b/1/consolidated.00.pth\n",
      "/kaggle/input/llama-2/pytorch/13b/1/tokenizer_checklist.chk\n",
      "/kaggle/input/llama-2/pytorch/13b/1/Responsible-Use-Guide.pdf\n",
      "/kaggle/input/llama-2/pytorch/13b/1/params.json\n",
      "/kaggle/input/llama-2/pytorch/13b/1/README.md\n",
      "/kaggle/input/llama-2/pytorch/13b/1/USE_POLICY.md\n",
      "/kaggle/input/llama-2/pytorch/13b/1/checklist.chk\n",
      "/kaggle/input/llama-2/pytorch/13b/1/LICENSE.txt\n",
      "/kaggle/input/llama-2/pytorch/13b/1/.gitattributes\n",
      "/kaggle/input/llama-2/pytorch/13b/1/tokenizer.model\n",
      "/kaggle/input/llama-2/pytorch/13b/1/consolidated.01.pth\n"
     ]
    }
   ],
   "source": [
    "# This Python 3 environment comes with many helpful analytics libraries installed\n",
    "# It is defined by the kaggle/python Docker image: https://github.com/kaggle/docker-python\n",
    "# For example, here's several helpful packages to load\n",
    "\n",
    "import numpy as np # linear algebra\n",
    "import pandas as pd # data processing, CSV file I/O (e.g. pd.read_csv)\n",
    "\n",
    "# Input data files are available in the read-only \"../input/\" directory\n",
    "# For example, running this (by clicking run or pressing Shift+Enter) will list all files under the input directory\n",
    "\n",
    "import os\n",
    "for dirname, _, filenames in os.walk('/kaggle/input'):\n",
    "    for filename in filenames:\n",
    "        print(os.path.join(dirname, filename))\n",
    "\n",
    "# You can write up to 20GB to the current directory (/kaggle/working/) that gets preserved as output when you create a version using \"Save & Run All\" \n",
    "# You can also write temporary files to /kaggle/temp/, but they won't be saved outside of the current session"
   ]
  },
  {
   "cell_type": "code",
   "execution_count": null,
   "id": "41996ba5",
   "metadata": {
    "papermill": {
     "duration": 0.006937,
     "end_time": "2024-01-26T14:26:00.082712",
     "exception": false,
     "start_time": "2024-01-26T14:26:00.075775",
     "status": "completed"
    },
    "tags": []
   },
   "outputs": [],
   "source": []
  },
  {
   "cell_type": "code",
   "execution_count": null,
   "id": "b0c0ba9a",
   "metadata": {
    "jupyter": {
     "source_hidden": true
    },
    "papermill": {
     "duration": 0.006679,
     "end_time": "2024-01-26T14:26:00.096501",
     "exception": false,
     "start_time": "2024-01-26T14:26:00.089822",
     "status": "completed"
    },
    "tags": []
   },
   "outputs": [],
   "source": []
  },
  {
   "cell_type": "code",
   "execution_count": null,
   "id": "43a31cab",
   "metadata": {
    "papermill": {
     "duration": 0.006791,
     "end_time": "2024-01-26T14:26:00.110441",
     "exception": false,
     "start_time": "2024-01-26T14:26:00.103650",
     "status": "completed"
    },
    "tags": []
   },
   "outputs": [],
   "source": []
  },
  {
   "cell_type": "code",
   "execution_count": null,
   "id": "ecfd3afc",
   "metadata": {
    "jupyter": {
     "source_hidden": true
    },
    "papermill": {
     "duration": 0.00682,
     "end_time": "2024-01-26T14:26:00.124297",
     "exception": false,
     "start_time": "2024-01-26T14:26:00.117477",
     "status": "completed"
    },
    "tags": []
   },
   "outputs": [],
   "source": []
  },
  {
   "cell_type": "code",
   "execution_count": null,
   "id": "a49a2321",
   "metadata": {
    "papermill": {
     "duration": 0.006632,
     "end_time": "2024-01-26T14:26:00.137952",
     "exception": false,
     "start_time": "2024-01-26T14:26:00.131320",
     "status": "completed"
    },
    "tags": []
   },
   "outputs": [],
   "source": []
  },
  {
   "cell_type": "code",
   "execution_count": null,
   "id": "d28b5222",
   "metadata": {
    "jupyter": {
     "source_hidden": true
    },
    "papermill": {
     "duration": 0.006706,
     "end_time": "2024-01-26T14:26:00.151754",
     "exception": false,
     "start_time": "2024-01-26T14:26:00.145048",
     "status": "completed"
    },
    "tags": []
   },
   "outputs": [],
   "source": []
  },
  {
   "cell_type": "code",
   "execution_count": null,
   "id": "282d2894",
   "metadata": {
    "jupyter": {
     "source_hidden": true
    },
    "papermill": {
     "duration": 0.006681,
     "end_time": "2024-01-26T14:26:00.165418",
     "exception": false,
     "start_time": "2024-01-26T14:26:00.158737",
     "status": "completed"
    },
    "tags": []
   },
   "outputs": [],
   "source": []
  },
  {
   "cell_type": "code",
   "execution_count": null,
   "id": "3a3b281f",
   "metadata": {
    "papermill": {
     "duration": 0.006642,
     "end_time": "2024-01-26T14:26:00.178997",
     "exception": false,
     "start_time": "2024-01-26T14:26:00.172355",
     "status": "completed"
    },
    "tags": []
   },
   "outputs": [],
   "source": []
  },
  {
   "cell_type": "code",
   "execution_count": null,
   "id": "f58c1378",
   "metadata": {
    "papermill": {
     "duration": 0.006592,
     "end_time": "2024-01-26T14:26:00.192633",
     "exception": false,
     "start_time": "2024-01-26T14:26:00.186041",
     "status": "completed"
    },
    "tags": []
   },
   "outputs": [],
   "source": []
  },
  {
   "cell_type": "code",
   "execution_count": null,
   "id": "c62de661",
   "metadata": {
    "papermill": {
     "duration": 0.006704,
     "end_time": "2024-01-26T14:26:00.206222",
     "exception": false,
     "start_time": "2024-01-26T14:26:00.199518",
     "status": "completed"
    },
    "tags": []
   },
   "outputs": [],
   "source": []
  },
  {
   "cell_type": "code",
   "execution_count": null,
   "id": "68a20c1f",
   "metadata": {
    "papermill": {
     "duration": 0.00672,
     "end_time": "2024-01-26T14:26:00.219916",
     "exception": false,
     "start_time": "2024-01-26T14:26:00.213196",
     "status": "completed"
    },
    "tags": []
   },
   "outputs": [],
   "source": []
  },
  {
   "cell_type": "code",
   "execution_count": null,
   "id": "3de21d84",
   "metadata": {
    "papermill": {
     "duration": 0.006685,
     "end_time": "2024-01-26T14:26:00.233605",
     "exception": false,
     "start_time": "2024-01-26T14:26:00.226920",
     "status": "completed"
    },
    "tags": []
   },
   "outputs": [],
   "source": []
  },
  {
   "cell_type": "code",
   "execution_count": null,
   "id": "5cbd5ab2",
   "metadata": {
    "papermill": {
     "duration": 0.006717,
     "end_time": "2024-01-26T14:26:00.247456",
     "exception": false,
     "start_time": "2024-01-26T14:26:00.240739",
     "status": "completed"
    },
    "tags": []
   },
   "outputs": [],
   "source": []
  },
  {
   "cell_type": "code",
   "execution_count": null,
   "id": "fa3eaadb",
   "metadata": {
    "papermill": {
     "duration": 0.006781,
     "end_time": "2024-01-26T14:26:00.261229",
     "exception": false,
     "start_time": "2024-01-26T14:26:00.254448",
     "status": "completed"
    },
    "tags": []
   },
   "outputs": [],
   "source": []
  },
  {
   "cell_type": "code",
   "execution_count": null,
   "id": "f410366c",
   "metadata": {
    "papermill": {
     "duration": 0.006858,
     "end_time": "2024-01-26T14:26:00.275157",
     "exception": false,
     "start_time": "2024-01-26T14:26:00.268299",
     "status": "completed"
    },
    "tags": []
   },
   "outputs": [],
   "source": []
  },
  {
   "cell_type": "code",
   "execution_count": null,
   "id": "0ee208ca",
   "metadata": {
    "papermill": {
     "duration": 0.006726,
     "end_time": "2024-01-26T14:26:00.288950",
     "exception": false,
     "start_time": "2024-01-26T14:26:00.282224",
     "status": "completed"
    },
    "tags": []
   },
   "outputs": [],
   "source": []
  },
  {
   "cell_type": "code",
   "execution_count": null,
   "id": "3c3c93e0",
   "metadata": {
    "papermill": {
     "duration": 0.006693,
     "end_time": "2024-01-26T14:26:00.302758",
     "exception": false,
     "start_time": "2024-01-26T14:26:00.296065",
     "status": "completed"
    },
    "tags": []
   },
   "outputs": [],
   "source": []
  },
  {
   "cell_type": "code",
   "execution_count": null,
   "id": "6ec0fb04",
   "metadata": {
    "papermill": {
     "duration": 0.00668,
     "end_time": "2024-01-26T14:26:00.316653",
     "exception": false,
     "start_time": "2024-01-26T14:26:00.309973",
     "status": "completed"
    },
    "tags": []
   },
   "outputs": [],
   "source": []
  },
  {
   "cell_type": "code",
   "execution_count": null,
   "id": "9a771e4e",
   "metadata": {
    "papermill": {
     "duration": 0.006793,
     "end_time": "2024-01-26T14:26:00.330517",
     "exception": false,
     "start_time": "2024-01-26T14:26:00.323724",
     "status": "completed"
    },
    "tags": []
   },
   "outputs": [],
   "source": []
  },
  {
   "cell_type": "code",
   "execution_count": null,
   "id": "61d6feb3",
   "metadata": {
    "papermill": {
     "duration": 0.006908,
     "end_time": "2024-01-26T14:26:00.344532",
     "exception": false,
     "start_time": "2024-01-26T14:26:00.337624",
     "status": "completed"
    },
    "tags": []
   },
   "outputs": [],
   "source": []
  },
  {
   "cell_type": "code",
   "execution_count": null,
   "id": "9de610f5",
   "metadata": {
    "papermill": {
     "duration": 0.006728,
     "end_time": "2024-01-26T14:26:00.358253",
     "exception": false,
     "start_time": "2024-01-26T14:26:00.351525",
     "status": "completed"
    },
    "tags": []
   },
   "outputs": [],
   "source": []
  },
  {
   "cell_type": "code",
   "execution_count": null,
   "id": "f79103c1",
   "metadata": {
    "papermill": {
     "duration": 0.006797,
     "end_time": "2024-01-26T14:26:00.372112",
     "exception": false,
     "start_time": "2024-01-26T14:26:00.365315",
     "status": "completed"
    },
    "tags": []
   },
   "outputs": [],
   "source": []
  },
  {
   "cell_type": "code",
   "execution_count": null,
   "id": "602aa8e8",
   "metadata": {
    "papermill": {
     "duration": 0.006645,
     "end_time": "2024-01-26T14:26:00.385897",
     "exception": false,
     "start_time": "2024-01-26T14:26:00.379252",
     "status": "completed"
    },
    "tags": []
   },
   "outputs": [],
   "source": []
  },
  {
   "cell_type": "code",
   "execution_count": null,
   "id": "e7424b9d",
   "metadata": {
    "papermill": {
     "duration": 0.006719,
     "end_time": "2024-01-26T14:26:00.399636",
     "exception": false,
     "start_time": "2024-01-26T14:26:00.392917",
     "status": "completed"
    },
    "tags": []
   },
   "outputs": [],
   "source": []
  }
 ],
 "metadata": {
  "kaggle": {
   "accelerator": "none",
   "dataSources": [
    {
     "isSourceIdPinned": true,
     "modelInstanceId": 3405,
     "sourceId": 4615,
     "sourceType": "modelInstanceVersion"
    },
    {
     "isSourceIdPinned": true,
     "modelInstanceId": 3094,
     "sourceId": 4299,
     "sourceType": "modelInstanceVersion"
    }
   ],
   "dockerImageVersionId": 30558,
   "isGpuEnabled": false,
   "isInternetEnabled": true,
   "language": "python",
   "sourceType": "notebook"
  },
  "kernelspec": {
   "display_name": "Python 3",
   "language": "python",
   "name": "python3"
  },
  "language_info": {
   "codemirror_mode": {
    "name": "ipython",
    "version": 3
   },
   "file_extension": ".py",
   "mimetype": "text/x-python",
   "name": "python",
   "nbconvert_exporter": "python",
   "pygments_lexer": "ipython3",
   "version": "3.10.12"
  },
  "papermill": {
   "default_parameters": {},
   "duration": 5.554618,
   "end_time": "2024-01-26T14:26:00.826866",
   "environment_variables": {},
   "exception": null,
   "input_path": "__notebook__.ipynb",
   "output_path": "__notebook__.ipynb",
   "parameters": {},
   "start_time": "2024-01-26T14:25:55.272248",
   "version": "2.4.0"
  }
 },
 "nbformat": 4,
 "nbformat_minor": 5
}
