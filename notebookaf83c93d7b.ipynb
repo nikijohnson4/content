{
 "cells": [
  {
   "cell_type": "code",
   "execution_count": 1,
   "id": "d6f5e522",
   "metadata": {
    "_cell_guid": "b1076dfc-b9ad-4769-8c92-a6c4dae69d19",
    "_uuid": "8f2839f25d086af736a60e9eeb907d3b93b6e0e5",
    "execution": {
     "iopub.execute_input": "2024-01-26T14:20:25.370087Z",
     "iopub.status.busy": "2024-01-26T14:20:25.369634Z",
     "iopub.status.idle": "2024-01-26T14:20:26.416484Z",
     "shell.execute_reply": "2024-01-26T14:20:26.414378Z"
    },
    "papermill": {
     "duration": 1.058159,
     "end_time": "2024-01-26T14:20:26.419653",
     "exception": false,
     "start_time": "2024-01-26T14:20:25.361494",
     "status": "completed"
    },
    "tags": []
   },
   "outputs": [
    {
     "name": "stdout",
     "output_type": "stream",
     "text": [
      "/kaggle/input/llama-2/pytorch/13b/1/consolidated.00.pth\n",
      "/kaggle/input/llama-2/pytorch/13b/1/tokenizer_checklist.chk\n",
      "/kaggle/input/llama-2/pytorch/13b/1/Responsible-Use-Guide.pdf\n",
      "/kaggle/input/llama-2/pytorch/13b/1/params.json\n",
      "/kaggle/input/llama-2/pytorch/13b/1/README.md\n",
      "/kaggle/input/llama-2/pytorch/13b/1/USE_POLICY.md\n",
      "/kaggle/input/llama-2/pytorch/13b/1/checklist.chk\n",
      "/kaggle/input/llama-2/pytorch/13b/1/LICENSE.txt\n",
      "/kaggle/input/llama-2/pytorch/13b/1/.gitattributes\n",
      "/kaggle/input/llama-2/pytorch/13b/1/tokenizer.model\n",
      "/kaggle/input/llama-2/pytorch/13b/1/consolidated.01.pth\n",
      "/kaggle/input/codellama/pytorch/13b/1/CONTRIBUTING.md\n",
      "/kaggle/input/codellama/pytorch/13b/1/CODE_OF_CONDUCT.md\n",
      "/kaggle/input/codellama/pytorch/13b/1/consolidated.00.pth\n",
      "/kaggle/input/codellama/pytorch/13b/1/example_infilling.py\n",
      "/kaggle/input/codellama/pytorch/13b/1/LICENSE\n",
      "/kaggle/input/codellama/pytorch/13b/1/MODEL_CARD.md\n",
      "/kaggle/input/codellama/pytorch/13b/1/params.json\n",
      "/kaggle/input/codellama/pytorch/13b/1/README.md\n",
      "/kaggle/input/codellama/pytorch/13b/1/USE_POLICY.md\n",
      "/kaggle/input/codellama/pytorch/13b/1/example_instructions.py\n",
      "/kaggle/input/codellama/pytorch/13b/1/checklist.chk\n",
      "/kaggle/input/codellama/pytorch/13b/1/requirements.txt\n",
      "/kaggle/input/codellama/pytorch/13b/1/dev-requirements.txt\n",
      "/kaggle/input/codellama/pytorch/13b/1/tokenizer.model\n",
      "/kaggle/input/codellama/pytorch/13b/1/setup.py\n",
      "/kaggle/input/codellama/pytorch/13b/1/example_completion.py\n",
      "/kaggle/input/codellama/pytorch/13b/1/consolidated.01.pth\n",
      "/kaggle/input/codellama/pytorch/13b/1/llama/model.py\n",
      "/kaggle/input/codellama/pytorch/13b/1/llama/tokenizer.py\n",
      "/kaggle/input/codellama/pytorch/13b/1/llama/generation.py\n",
      "/kaggle/input/codellama/pytorch/13b/1/llama/__init__.py\n"
     ]
    }
   ],
   "source": [
    "# This Python 3 environment comes with many helpful analytics libraries installed\n",
    "# It is defined by the kaggle/python Docker image: https://github.com/kaggle/docker-python\n",
    "# For example, here's several helpful packages to load\n",
    "\n",
    "import numpy as np # linear algebra\n",
    "import pandas as pd # data processing, CSV file I/O (e.g. pd.read_csv)\n",
    "\n",
    "# Input data files are available in the read-only \"../input/\" directory\n",
    "# For example, running this (by clicking run or pressing Shift+Enter) will list all files under the input directory\n",
    "\n",
    "import os\n",
    "for dirname, _, filenames in os.walk('/kaggle/input'):\n",
    "    for filename in filenames:\n",
    "        print(os.path.join(dirname, filename))\n",
    "\n",
    "# You can write up to 20GB to the current directory (/kaggle/working/) that gets preserved as output when you create a version using \"Save & Run All\" \n",
    "# You can also write temporary files to /kaggle/temp/, but they won't be saved outside of the current session"
   ]
  },
  {
   "cell_type": "code",
   "execution_count": null,
   "id": "ba249e9c",
   "metadata": {
    "papermill": {
     "duration": 0.005244,
     "end_time": "2024-01-26T14:20:26.432996",
     "exception": false,
     "start_time": "2024-01-26T14:20:26.427752",
     "status": "completed"
    },
    "tags": []
   },
   "outputs": [],
   "source": []
  },
  {
   "cell_type": "code",
   "execution_count": null,
   "id": "b0637c62",
   "metadata": {
    "jupyter": {
     "source_hidden": true
    },
    "papermill": {
     "duration": 0.005215,
     "end_time": "2024-01-26T14:20:26.443844",
     "exception": false,
     "start_time": "2024-01-26T14:20:26.438629",
     "status": "completed"
    },
    "tags": []
   },
   "outputs": [],
   "source": []
  },
  {
   "cell_type": "code",
   "execution_count": null,
   "id": "02d8db7f",
   "metadata": {
    "papermill": {
     "duration": 0.005384,
     "end_time": "2024-01-26T14:20:26.454863",
     "exception": false,
     "start_time": "2024-01-26T14:20:26.449479",
     "status": "completed"
    },
    "tags": []
   },
   "outputs": [],
   "source": []
  },
  {
   "cell_type": "code",
   "execution_count": null,
   "id": "316c4034",
   "metadata": {
    "jupyter": {
     "source_hidden": true
    },
    "papermill": {
     "duration": 0.005296,
     "end_time": "2024-01-26T14:20:26.466109",
     "exception": false,
     "start_time": "2024-01-26T14:20:26.460813",
     "status": "completed"
    },
    "tags": []
   },
   "outputs": [],
   "source": []
  },
  {
   "cell_type": "code",
   "execution_count": null,
   "id": "46aad031",
   "metadata": {
    "papermill": {
     "duration": 0.005725,
     "end_time": "2024-01-26T14:20:26.477472",
     "exception": false,
     "start_time": "2024-01-26T14:20:26.471747",
     "status": "completed"
    },
    "tags": []
   },
   "outputs": [],
   "source": []
  },
  {
   "cell_type": "code",
   "execution_count": null,
   "id": "cf7c6259",
   "metadata": {
    "jupyter": {
     "source_hidden": true
    },
    "papermill": {
     "duration": 0.005303,
     "end_time": "2024-01-26T14:20:26.488391",
     "exception": false,
     "start_time": "2024-01-26T14:20:26.483088",
     "status": "completed"
    },
    "tags": []
   },
   "outputs": [],
   "source": []
  },
  {
   "cell_type": "code",
   "execution_count": null,
   "id": "cba7878b",
   "metadata": {
    "jupyter": {
     "source_hidden": true
    },
    "papermill": {
     "duration": 0.005209,
     "end_time": "2024-01-26T14:20:26.499113",
     "exception": false,
     "start_time": "2024-01-26T14:20:26.493904",
     "status": "completed"
    },
    "tags": []
   },
   "outputs": [],
   "source": []
  },
  {
   "cell_type": "code",
   "execution_count": null,
   "id": "43cb7e9a",
   "metadata": {
    "papermill": {
     "duration": 0.005244,
     "end_time": "2024-01-26T14:20:26.510001",
     "exception": false,
     "start_time": "2024-01-26T14:20:26.504757",
     "status": "completed"
    },
    "tags": []
   },
   "outputs": [],
   "source": []
  },
  {
   "cell_type": "code",
   "execution_count": null,
   "id": "1384deb2",
   "metadata": {
    "papermill": {
     "duration": 0.005144,
     "end_time": "2024-01-26T14:20:26.520647",
     "exception": false,
     "start_time": "2024-01-26T14:20:26.515503",
     "status": "completed"
    },
    "tags": []
   },
   "outputs": [],
   "source": []
  },
  {
   "cell_type": "code",
   "execution_count": null,
   "id": "d280e2b4",
   "metadata": {
    "papermill": {
     "duration": 0.00526,
     "end_time": "2024-01-26T14:20:26.531412",
     "exception": false,
     "start_time": "2024-01-26T14:20:26.526152",
     "status": "completed"
    },
    "tags": []
   },
   "outputs": [],
   "source": []
  },
  {
   "cell_type": "code",
   "execution_count": null,
   "id": "02866eb0",
   "metadata": {
    "papermill": {
     "duration": 0.005187,
     "end_time": "2024-01-26T14:20:26.542039",
     "exception": false,
     "start_time": "2024-01-26T14:20:26.536852",
     "status": "completed"
    },
    "tags": []
   },
   "outputs": [],
   "source": []
  },
  {
   "cell_type": "code",
   "execution_count": null,
   "id": "29be37c1",
   "metadata": {
    "papermill": {
     "duration": 0.005114,
     "end_time": "2024-01-26T14:20:26.552668",
     "exception": false,
     "start_time": "2024-01-26T14:20:26.547554",
     "status": "completed"
    },
    "tags": []
   },
   "outputs": [],
   "source": []
  },
  {
   "cell_type": "code",
   "execution_count": null,
   "id": "6a0497bb",
   "metadata": {
    "papermill": {
     "duration": 0.005144,
     "end_time": "2024-01-26T14:20:26.563412",
     "exception": false,
     "start_time": "2024-01-26T14:20:26.558268",
     "status": "completed"
    },
    "tags": []
   },
   "outputs": [],
   "source": []
  },
  {
   "cell_type": "code",
   "execution_count": null,
   "id": "727eff09",
   "metadata": {
    "papermill": {
     "duration": 0.005112,
     "end_time": "2024-01-26T14:20:26.573986",
     "exception": false,
     "start_time": "2024-01-26T14:20:26.568874",
     "status": "completed"
    },
    "tags": []
   },
   "outputs": [],
   "source": []
  },
  {
   "cell_type": "code",
   "execution_count": null,
   "id": "b424123f",
   "metadata": {
    "papermill": {
     "duration": 0.00527,
     "end_time": "2024-01-26T14:20:26.584807",
     "exception": false,
     "start_time": "2024-01-26T14:20:26.579537",
     "status": "completed"
    },
    "tags": []
   },
   "outputs": [],
   "source": []
  },
  {
   "cell_type": "code",
   "execution_count": null,
   "id": "4f4e46f1",
   "metadata": {
    "papermill": {
     "duration": 0.005135,
     "end_time": "2024-01-26T14:20:26.595409",
     "exception": false,
     "start_time": "2024-01-26T14:20:26.590274",
     "status": "completed"
    },
    "tags": []
   },
   "outputs": [],
   "source": []
  }
 ],
 "metadata": {
  "kaggle": {
   "accelerator": "none",
   "dataSources": [
    {
     "isSourceIdPinned": true,
     "modelInstanceId": 3405,
     "sourceId": 4615,
     "sourceType": "modelInstanceVersion"
    },
    {
     "isSourceIdPinned": true,
     "modelInstanceId": 3094,
     "sourceId": 4299,
     "sourceType": "modelInstanceVersion"
    }
   ],
   "dockerImageVersionId": 30558,
   "isGpuEnabled": false,
   "isInternetEnabled": true,
   "language": "python",
   "sourceType": "notebook"
  },
  "kernelspec": {
   "display_name": "Python 3",
   "language": "python",
   "name": "python3"
  },
  "language_info": {
   "codemirror_mode": {
    "name": "ipython",
    "version": 3
   },
   "file_extension": ".py",
   "mimetype": "text/x-python",
   "name": "python",
   "nbconvert_exporter": "python",
   "pygments_lexer": "ipython3",
   "version": "3.10.12"
  },
  "papermill": {
   "default_parameters": {},
   "duration": 6.311168,
   "end_time": "2024-01-26T14:20:27.323979",
   "environment_variables": {},
   "exception": null,
   "input_path": "__notebook__.ipynb",
   "output_path": "__notebook__.ipynb",
   "parameters": {},
   "start_time": "2024-01-26T14:20:21.012811",
   "version": "2.4.0"
  }
 },
 "nbformat": 4,
 "nbformat_minor": 5
}
