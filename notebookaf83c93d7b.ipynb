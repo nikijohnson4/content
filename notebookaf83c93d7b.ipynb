{
 "cells": [
  {
   "cell_type": "code",
   "execution_count": 1,
   "id": "60cca62c",
   "metadata": {
    "_cell_guid": "b1076dfc-b9ad-4769-8c92-a6c4dae69d19",
    "_uuid": "8f2839f25d086af736a60e9eeb907d3b93b6e0e5",
    "execution": {
     "iopub.execute_input": "2024-01-26T14:19:19.096164Z",
     "iopub.status.busy": "2024-01-26T14:19:19.095042Z",
     "iopub.status.idle": "2024-01-26T14:19:19.947293Z",
     "shell.execute_reply": "2024-01-26T14:19:19.945955Z"
    },
    "papermill": {
     "duration": 0.864692,
     "end_time": "2024-01-26T14:19:19.951328",
     "exception": false,
     "start_time": "2024-01-26T14:19:19.086636",
     "status": "completed"
    },
    "tags": []
   },
   "outputs": [
    {
     "name": "stdout",
     "output_type": "stream",
     "text": [
      "/kaggle/input/codellama/pytorch/13b/1/CONTRIBUTING.md\n",
      "/kaggle/input/codellama/pytorch/13b/1/CODE_OF_CONDUCT.md\n",
      "/kaggle/input/codellama/pytorch/13b/1/consolidated.00.pth\n",
      "/kaggle/input/codellama/pytorch/13b/1/example_infilling.py\n",
      "/kaggle/input/codellama/pytorch/13b/1/LICENSE\n",
      "/kaggle/input/codellama/pytorch/13b/1/MODEL_CARD.md\n",
      "/kaggle/input/codellama/pytorch/13b/1/params.json\n",
      "/kaggle/input/codellama/pytorch/13b/1/README.md\n",
      "/kaggle/input/codellama/pytorch/13b/1/USE_POLICY.md\n",
      "/kaggle/input/codellama/pytorch/13b/1/example_instructions.py\n",
      "/kaggle/input/codellama/pytorch/13b/1/checklist.chk\n",
      "/kaggle/input/codellama/pytorch/13b/1/requirements.txt\n",
      "/kaggle/input/codellama/pytorch/13b/1/dev-requirements.txt\n",
      "/kaggle/input/codellama/pytorch/13b/1/tokenizer.model\n",
      "/kaggle/input/codellama/pytorch/13b/1/setup.py\n",
      "/kaggle/input/codellama/pytorch/13b/1/example_completion.py\n",
      "/kaggle/input/codellama/pytorch/13b/1/consolidated.01.pth\n",
      "/kaggle/input/codellama/pytorch/13b/1/llama/model.py\n",
      "/kaggle/input/codellama/pytorch/13b/1/llama/tokenizer.py\n",
      "/kaggle/input/codellama/pytorch/13b/1/llama/generation.py\n",
      "/kaggle/input/codellama/pytorch/13b/1/llama/__init__.py\n",
      "/kaggle/input/llama-2/pytorch/13b/1/consolidated.00.pth\n",
      "/kaggle/input/llama-2/pytorch/13b/1/tokenizer_checklist.chk\n",
      "/kaggle/input/llama-2/pytorch/13b/1/Responsible-Use-Guide.pdf\n",
      "/kaggle/input/llama-2/pytorch/13b/1/params.json\n",
      "/kaggle/input/llama-2/pytorch/13b/1/README.md\n",
      "/kaggle/input/llama-2/pytorch/13b/1/USE_POLICY.md\n",
      "/kaggle/input/llama-2/pytorch/13b/1/checklist.chk\n",
      "/kaggle/input/llama-2/pytorch/13b/1/LICENSE.txt\n",
      "/kaggle/input/llama-2/pytorch/13b/1/.gitattributes\n",
      "/kaggle/input/llama-2/pytorch/13b/1/tokenizer.model\n",
      "/kaggle/input/llama-2/pytorch/13b/1/consolidated.01.pth\n"
     ]
    }
   ],
   "source": [
    "# This Python 3 environment comes with many helpful analytics libraries installed\n",
    "# It is defined by the kaggle/python Docker image: https://github.com/kaggle/docker-python\n",
    "# For example, here's several helpful packages to load\n",
    "\n",
    "import numpy as np # linear algebra\n",
    "import pandas as pd # data processing, CSV file I/O (e.g. pd.read_csv)\n",
    "\n",
    "# Input data files are available in the read-only \"../input/\" directory\n",
    "# For example, running this (by clicking run or pressing Shift+Enter) will list all files under the input directory\n",
    "\n",
    "import os\n",
    "for dirname, _, filenames in os.walk('/kaggle/input'):\n",
    "    for filename in filenames:\n",
    "        print(os.path.join(dirname, filename))\n",
    "\n",
    "# You can write up to 20GB to the current directory (/kaggle/working/) that gets preserved as output when you create a version using \"Save & Run All\" \n",
    "# You can also write temporary files to /kaggle/temp/, but they won't be saved outside of the current session"
   ]
  },
  {
   "cell_type": "code",
   "execution_count": null,
   "id": "e8caf5a2",
   "metadata": {
    "papermill": {
     "duration": 0.004471,
     "end_time": "2024-01-26T14:19:19.960845",
     "exception": false,
     "start_time": "2024-01-26T14:19:19.956374",
     "status": "completed"
    },
    "tags": []
   },
   "outputs": [],
   "source": []
  },
  {
   "cell_type": "code",
   "execution_count": null,
   "id": "20d0cd60",
   "metadata": {
    "jupyter": {
     "source_hidden": true
    },
    "papermill": {
     "duration": 0.005308,
     "end_time": "2024-01-26T14:19:19.970861",
     "exception": false,
     "start_time": "2024-01-26T14:19:19.965553",
     "status": "completed"
    },
    "tags": []
   },
   "outputs": [],
   "source": []
  },
  {
   "cell_type": "code",
   "execution_count": null,
   "id": "50c02c8b",
   "metadata": {
    "papermill": {
     "duration": 0.004784,
     "end_time": "2024-01-26T14:19:19.980521",
     "exception": false,
     "start_time": "2024-01-26T14:19:19.975737",
     "status": "completed"
    },
    "tags": []
   },
   "outputs": [],
   "source": []
  },
  {
   "cell_type": "code",
   "execution_count": null,
   "id": "4b721d80",
   "metadata": {
    "jupyter": {
     "source_hidden": true
    },
    "papermill": {
     "duration": 0.004709,
     "end_time": "2024-01-26T14:19:19.990285",
     "exception": false,
     "start_time": "2024-01-26T14:19:19.985576",
     "status": "completed"
    },
    "tags": []
   },
   "outputs": [],
   "source": []
  },
  {
   "cell_type": "code",
   "execution_count": null,
   "id": "2d2646e8",
   "metadata": {
    "papermill": {
     "duration": 0.004553,
     "end_time": "2024-01-26T14:19:19.999826",
     "exception": false,
     "start_time": "2024-01-26T14:19:19.995273",
     "status": "completed"
    },
    "tags": []
   },
   "outputs": [],
   "source": []
  },
  {
   "cell_type": "code",
   "execution_count": null,
   "id": "aaabd198",
   "metadata": {
    "jupyter": {
     "source_hidden": true
    },
    "papermill": {
     "duration": 0.004505,
     "end_time": "2024-01-26T14:19:20.009301",
     "exception": false,
     "start_time": "2024-01-26T14:19:20.004796",
     "status": "completed"
    },
    "tags": []
   },
   "outputs": [],
   "source": []
  },
  {
   "cell_type": "code",
   "execution_count": null,
   "id": "088829ef",
   "metadata": {
    "jupyter": {
     "source_hidden": true
    },
    "papermill": {
     "duration": 0.004557,
     "end_time": "2024-01-26T14:19:20.018499",
     "exception": false,
     "start_time": "2024-01-26T14:19:20.013942",
     "status": "completed"
    },
    "tags": []
   },
   "outputs": [],
   "source": []
  },
  {
   "cell_type": "code",
   "execution_count": null,
   "id": "01b0ffa6",
   "metadata": {
    "papermill": {
     "duration": 0.004546,
     "end_time": "2024-01-26T14:19:20.028292",
     "exception": false,
     "start_time": "2024-01-26T14:19:20.023746",
     "status": "completed"
    },
    "tags": []
   },
   "outputs": [],
   "source": []
  },
  {
   "cell_type": "code",
   "execution_count": null,
   "id": "bb9452ad",
   "metadata": {
    "papermill": {
     "duration": 0.004706,
     "end_time": "2024-01-26T14:19:20.038192",
     "exception": false,
     "start_time": "2024-01-26T14:19:20.033486",
     "status": "completed"
    },
    "tags": []
   },
   "outputs": [],
   "source": []
  },
  {
   "cell_type": "code",
   "execution_count": null,
   "id": "ec330141",
   "metadata": {
    "papermill": {
     "duration": 0.004583,
     "end_time": "2024-01-26T14:19:20.048239",
     "exception": false,
     "start_time": "2024-01-26T14:19:20.043656",
     "status": "completed"
    },
    "tags": []
   },
   "outputs": [],
   "source": []
  },
  {
   "cell_type": "code",
   "execution_count": null,
   "id": "626e0e2b",
   "metadata": {
    "papermill": {
     "duration": 0.004536,
     "end_time": "2024-01-26T14:19:20.057503",
     "exception": false,
     "start_time": "2024-01-26T14:19:20.052967",
     "status": "completed"
    },
    "tags": []
   },
   "outputs": [],
   "source": []
  },
  {
   "cell_type": "code",
   "execution_count": null,
   "id": "63255239",
   "metadata": {
    "papermill": {
     "duration": 0.004903,
     "end_time": "2024-01-26T14:19:20.067377",
     "exception": false,
     "start_time": "2024-01-26T14:19:20.062474",
     "status": "completed"
    },
    "tags": []
   },
   "outputs": [],
   "source": []
  },
  {
   "cell_type": "code",
   "execution_count": null,
   "id": "a30a4d6c",
   "metadata": {
    "papermill": {
     "duration": 0.004367,
     "end_time": "2024-01-26T14:19:20.076418",
     "exception": false,
     "start_time": "2024-01-26T14:19:20.072051",
     "status": "completed"
    },
    "tags": []
   },
   "outputs": [],
   "source": []
  },
  {
   "cell_type": "code",
   "execution_count": null,
   "id": "7dd26c70",
   "metadata": {
    "papermill": {
     "duration": 0.004372,
     "end_time": "2024-01-26T14:19:20.085338",
     "exception": false,
     "start_time": "2024-01-26T14:19:20.080966",
     "status": "completed"
    },
    "tags": []
   },
   "outputs": [],
   "source": []
  },
  {
   "cell_type": "code",
   "execution_count": null,
   "id": "4b1485ea",
   "metadata": {
    "papermill": {
     "duration": 0.00425,
     "end_time": "2024-01-26T14:19:20.094150",
     "exception": false,
     "start_time": "2024-01-26T14:19:20.089900",
     "status": "completed"
    },
    "tags": []
   },
   "outputs": [],
   "source": []
  },
  {
   "cell_type": "code",
   "execution_count": null,
   "id": "8faf057a",
   "metadata": {
    "papermill": {
     "duration": 0.004255,
     "end_time": "2024-01-26T14:19:20.102878",
     "exception": false,
     "start_time": "2024-01-26T14:19:20.098623",
     "status": "completed"
    },
    "tags": []
   },
   "outputs": [],
   "source": []
  },
  {
   "cell_type": "code",
   "execution_count": null,
   "id": "9904e3bf",
   "metadata": {
    "papermill": {
     "duration": 0.004495,
     "end_time": "2024-01-26T14:19:20.111894",
     "exception": false,
     "start_time": "2024-01-26T14:19:20.107399",
     "status": "completed"
    },
    "tags": []
   },
   "outputs": [],
   "source": []
  },
  {
   "cell_type": "code",
   "execution_count": null,
   "id": "45134ce2",
   "metadata": {
    "papermill": {
     "duration": 0.004736,
     "end_time": "2024-01-26T14:19:20.121483",
     "exception": false,
     "start_time": "2024-01-26T14:19:20.116747",
     "status": "completed"
    },
    "tags": []
   },
   "outputs": [],
   "source": []
  },
  {
   "cell_type": "code",
   "execution_count": null,
   "id": "71a1336b",
   "metadata": {
    "papermill": {
     "duration": 0.004929,
     "end_time": "2024-01-26T14:19:20.131962",
     "exception": false,
     "start_time": "2024-01-26T14:19:20.127033",
     "status": "completed"
    },
    "tags": []
   },
   "outputs": [],
   "source": []
  },
  {
   "cell_type": "code",
   "execution_count": null,
   "id": "20666a71",
   "metadata": {
    "papermill": {
     "duration": 0.004538,
     "end_time": "2024-01-26T14:19:20.141856",
     "exception": false,
     "start_time": "2024-01-26T14:19:20.137318",
     "status": "completed"
    },
    "tags": []
   },
   "outputs": [],
   "source": []
  },
  {
   "cell_type": "code",
   "execution_count": null,
   "id": "310747fa",
   "metadata": {
    "papermill": {
     "duration": 0.004497,
     "end_time": "2024-01-26T14:19:20.151163",
     "exception": false,
     "start_time": "2024-01-26T14:19:20.146666",
     "status": "completed"
    },
    "tags": []
   },
   "outputs": [],
   "source": []
  },
  {
   "cell_type": "code",
   "execution_count": null,
   "id": "0646daf4",
   "metadata": {
    "papermill": {
     "duration": 0.004437,
     "end_time": "2024-01-26T14:19:20.160336",
     "exception": false,
     "start_time": "2024-01-26T14:19:20.155899",
     "status": "completed"
    },
    "tags": []
   },
   "outputs": [],
   "source": []
  }
 ],
 "metadata": {
  "kaggle": {
   "accelerator": "none",
   "dataSources": [
    {
     "isSourceIdPinned": true,
     "modelInstanceId": 3405,
     "sourceId": 4615,
     "sourceType": "modelInstanceVersion"
    },
    {
     "isSourceIdPinned": true,
     "modelInstanceId": 3094,
     "sourceId": 4299,
     "sourceType": "modelInstanceVersion"
    }
   ],
   "dockerImageVersionId": 30558,
   "isGpuEnabled": false,
   "isInternetEnabled": true,
   "language": "python",
   "sourceType": "notebook"
  },
  "kernelspec": {
   "display_name": "Python 3",
   "language": "python",
   "name": "python3"
  },
  "language_info": {
   "codemirror_mode": {
    "name": "ipython",
    "version": 3
   },
   "file_extension": ".py",
   "mimetype": "text/x-python",
   "name": "python",
   "nbconvert_exporter": "python",
   "pygments_lexer": "ipython3",
   "version": "3.10.12"
  },
  "papermill": {
   "default_parameters": {},
   "duration": 4.975271,
   "end_time": "2024-01-26T14:19:20.685595",
   "environment_variables": {},
   "exception": null,
   "input_path": "__notebook__.ipynb",
   "output_path": "__notebook__.ipynb",
   "parameters": {},
   "start_time": "2024-01-26T14:19:15.710324",
   "version": "2.4.0"
  }
 },
 "nbformat": 4,
 "nbformat_minor": 5
}
